{
 "cells": [
  {
   "cell_type": "code",
   "execution_count": 1,
   "id": "66994903",
   "metadata": {
    "execution": {
     "iopub.execute_input": "2022-01-19T19:38:33.783996Z",
     "iopub.status.busy": "2022-01-19T19:38:33.780288Z",
     "iopub.status.idle": "2022-01-19T19:38:35.070348Z",
     "shell.execute_reply": "2022-01-19T19:38:35.069515Z",
     "shell.execute_reply.started": "2022-01-19T19:35:07.575044Z"
    },
    "papermill": {
     "duration": 1.310979,
     "end_time": "2022-01-19T19:38:35.070550",
     "exception": false,
     "start_time": "2022-01-19T19:38:33.759571",
     "status": "completed"
    },
    "tags": []
   },
   "outputs": [],
   "source": [
    "import numpy as np\n",
    "\n",
    "  # Load libraries\n",
    "import pandas as pd\n",
    "from sklearn.tree import DecisionTreeClassifier # Import Decision Tree Classifier\n",
    "from sklearn.model_selection import train_test_split # Import train_test_split function\n",
    "from sklearn import metrics #Import scikit-learn metrics module for accuracy calculation"
   ]
  },
  {
   "cell_type": "code",
   "execution_count": 2,
   "id": "69c0735e",
   "metadata": {
    "execution": {
     "iopub.execute_input": "2022-01-19T19:38:35.095607Z",
     "iopub.status.busy": "2022-01-19T19:38:35.094641Z",
     "iopub.status.idle": "2022-01-19T19:38:35.116725Z",
     "shell.execute_reply": "2022-01-19T19:38:35.117247Z",
     "shell.execute_reply.started": "2022-01-19T19:36:10.881272Z"
    },
    "papermill": {
     "duration": 0.036311,
     "end_time": "2022-01-19T19:38:35.117459",
     "exception": false,
     "start_time": "2022-01-19T19:38:35.081148",
     "status": "completed"
    },
    "tags": []
   },
   "outputs": [],
   "source": [
    "bill=pd.read_csv('../input/bill-dataset/bill_authentication.csv')"
   ]
  },
  {
   "cell_type": "code",
   "execution_count": 3,
   "id": "329c0944",
   "metadata": {
    "execution": {
     "iopub.execute_input": "2022-01-19T19:38:35.142172Z",
     "iopub.status.busy": "2022-01-19T19:38:35.141167Z",
     "iopub.status.idle": "2022-01-19T19:38:35.160893Z",
     "shell.execute_reply": "2022-01-19T19:38:35.161411Z",
     "shell.execute_reply.started": "2022-01-19T19:36:20.668019Z"
    },
    "papermill": {
     "duration": 0.033882,
     "end_time": "2022-01-19T19:38:35.161621",
     "exception": false,
     "start_time": "2022-01-19T19:38:35.127739",
     "status": "completed"
    },
    "tags": []
   },
   "outputs": [
    {
     "data": {
      "text/plain": [
       "<bound method NDFrame.head of       Variance  Skewness  Curtosis  Entropy  Class\n",
       "0      3.62160   8.66610   -2.8073 -0.44699      0\n",
       "1      4.54590   8.16740   -2.4586 -1.46210      0\n",
       "2      3.86600  -2.63830    1.9242  0.10645      0\n",
       "3      3.45660   9.52280   -4.0112 -3.59440      0\n",
       "4      0.32924  -4.45520    4.5718 -0.98880      0\n",
       "...        ...       ...       ...      ...    ...\n",
       "1367   0.40614   1.34920   -1.4501 -0.55949      1\n",
       "1368  -1.38870  -4.87730    6.4774  0.34179      1\n",
       "1369  -3.75030 -13.45860   17.5932 -2.77710      1\n",
       "1370  -3.56370  -8.38270   12.3930 -1.28230      1\n",
       "1371  -2.54190  -0.65804    2.6842  1.19520      1\n",
       "\n",
       "[1372 rows x 5 columns]>"
      ]
     },
     "execution_count": 3,
     "metadata": {},
     "output_type": "execute_result"
    }
   ],
   "source": [
    "bill.head"
   ]
  },
  {
   "cell_type": "code",
   "execution_count": 4,
   "id": "bc12188f",
   "metadata": {
    "execution": {
     "iopub.execute_input": "2022-01-19T19:38:35.186434Z",
     "iopub.status.busy": "2022-01-19T19:38:35.185774Z",
     "iopub.status.idle": "2022-01-19T19:38:35.194477Z",
     "shell.execute_reply": "2022-01-19T19:38:35.195005Z",
     "shell.execute_reply.started": "2022-01-19T19:36:37.096995Z"
    },
    "papermill": {
     "duration": 0.022964,
     "end_time": "2022-01-19T19:38:35.195192",
     "exception": false,
     "start_time": "2022-01-19T19:38:35.172228",
     "status": "completed"
    },
    "tags": []
   },
   "outputs": [
    {
     "data": {
      "text/plain": [
       "Variance    0\n",
       "Skewness    0\n",
       "Curtosis    0\n",
       "Entropy     0\n",
       "Class       0\n",
       "dtype: int64"
      ]
     },
     "execution_count": 4,
     "metadata": {},
     "output_type": "execute_result"
    }
   ],
   "source": [
    "bill.isnull().sum()"
   ]
  },
  {
   "cell_type": "code",
   "execution_count": 5,
   "id": "6e7181a9",
   "metadata": {
    "execution": {
     "iopub.execute_input": "2022-01-19T19:38:35.227739Z",
     "iopub.status.busy": "2022-01-19T19:38:35.226802Z",
     "iopub.status.idle": "2022-01-19T19:38:35.228936Z",
     "shell.execute_reply": "2022-01-19T19:38:35.229411Z",
     "shell.execute_reply.started": "2022-01-19T19:36:48.433423Z"
    },
    "papermill": {
     "duration": 0.023732,
     "end_time": "2022-01-19T19:38:35.229628",
     "exception": false,
     "start_time": "2022-01-19T19:38:35.205896",
     "status": "completed"
    },
    "tags": []
   },
   "outputs": [],
   "source": [
    "x7=bill.iloc[:,0:4]\n",
    "y7=bill.iloc[:,[4]]\n"
   ]
  },
  {
   "cell_type": "code",
   "execution_count": 6,
   "id": "c9a21e17",
   "metadata": {
    "execution": {
     "iopub.execute_input": "2022-01-19T19:38:35.261732Z",
     "iopub.status.busy": "2022-01-19T19:38:35.260867Z",
     "iopub.status.idle": "2022-01-19T19:38:35.263613Z",
     "shell.execute_reply": "2022-01-19T19:38:35.263065Z",
     "shell.execute_reply.started": "2022-01-19T19:36:59.825736Z"
    },
    "papermill": {
     "duration": 0.023299,
     "end_time": "2022-01-19T19:38:35.263765",
     "exception": false,
     "start_time": "2022-01-19T19:38:35.240466",
     "status": "completed"
    },
    "tags": []
   },
   "outputs": [],
   "source": [
    "# split X and y into training and testing sets\n",
    "\n",
    "x7_train,x7_test,y7_train,y7_test=train_test_split(x7,y7,test_size=0.25,random_state=0)"
   ]
  },
  {
   "cell_type": "code",
   "execution_count": 7,
   "id": "4d830595",
   "metadata": {
    "execution": {
     "iopub.execute_input": "2022-01-19T19:38:35.290820Z",
     "iopub.status.busy": "2022-01-19T19:38:35.289925Z",
     "iopub.status.idle": "2022-01-19T19:38:35.292742Z",
     "shell.execute_reply": "2022-01-19T19:38:35.292122Z",
     "shell.execute_reply.started": "2022-01-19T19:37:09.353788Z"
    },
    "papermill": {
     "duration": 0.018345,
     "end_time": "2022-01-19T19:38:35.292890",
     "exception": false,
     "start_time": "2022-01-19T19:38:35.274545",
     "status": "completed"
    },
    "tags": []
   },
   "outputs": [],
   "source": [
    "# import the class\n",
    "from sklearn.linear_model import LogisticRegression"
   ]
  },
  {
   "cell_type": "code",
   "execution_count": 8,
   "id": "56b44b47",
   "metadata": {
    "execution": {
     "iopub.execute_input": "2022-01-19T19:38:35.319293Z",
     "iopub.status.busy": "2022-01-19T19:38:35.318609Z",
     "iopub.status.idle": "2022-01-19T19:38:35.321537Z",
     "shell.execute_reply": "2022-01-19T19:38:35.320999Z",
     "shell.execute_reply.started": "2022-01-19T19:37:18.882078Z"
    },
    "papermill": {
     "duration": 0.018039,
     "end_time": "2022-01-19T19:38:35.321698",
     "exception": false,
     "start_time": "2022-01-19T19:38:35.303659",
     "status": "completed"
    },
    "tags": []
   },
   "outputs": [],
   "source": [
    "# instantiate the model (using the default parameters)\n",
    "logreg=LogisticRegression()"
   ]
  },
  {
   "cell_type": "code",
   "execution_count": 9,
   "id": "e2bb3e0e",
   "metadata": {
    "execution": {
     "iopub.execute_input": "2022-01-19T19:38:35.351357Z",
     "iopub.status.busy": "2022-01-19T19:38:35.346199Z",
     "iopub.status.idle": "2022-01-19T19:38:35.373152Z",
     "shell.execute_reply": "2022-01-19T19:38:35.372621Z",
     "shell.execute_reply.started": "2022-01-19T19:37:32.161490Z"
    },
    "papermill": {
     "duration": 0.040814,
     "end_time": "2022-01-19T19:38:35.373299",
     "exception": false,
     "start_time": "2022-01-19T19:38:35.332485",
     "status": "completed"
    },
    "tags": []
   },
   "outputs": [
    {
     "name": "stderr",
     "output_type": "stream",
     "text": [
      "/opt/conda/lib/python3.7/site-packages/sklearn/utils/validation.py:72: DataConversionWarning: A column-vector y was passed when a 1d array was expected. Please change the shape of y to (n_samples, ), for example using ravel().\n",
      "  return f(**kwargs)\n"
     ]
    },
    {
     "data": {
      "text/plain": [
       "LogisticRegression()"
      ]
     },
     "execution_count": 9,
     "metadata": {},
     "output_type": "execute_result"
    }
   ],
   "source": [
    "# fit the model with data\n",
    "logreg.fit(x7_train,y7_train)"
   ]
  },
  {
   "cell_type": "code",
   "execution_count": 10,
   "id": "4e7ff386",
   "metadata": {
    "execution": {
     "iopub.execute_input": "2022-01-19T19:38:35.411340Z",
     "iopub.status.busy": "2022-01-19T19:38:35.408473Z",
     "iopub.status.idle": "2022-01-19T19:38:35.425302Z",
     "shell.execute_reply": "2022-01-19T19:38:35.424716Z",
     "shell.execute_reply.started": "2022-01-19T19:37:50.478786Z"
    },
    "papermill": {
     "duration": 0.040835,
     "end_time": "2022-01-19T19:38:35.425458",
     "exception": false,
     "start_time": "2022-01-19T19:38:35.384623",
     "status": "completed"
    },
    "tags": []
   },
   "outputs": [
    {
     "name": "stdout",
     "output_type": "stream",
     "text": [
      "[[9.99999950e-01 5.00581275e-08]]\n",
      "Accuracy: 0.9854227405247813\n",
      "Precision: 0.9673202614379085\n",
      "Recall: 1.0\n",
      "Accuracy: 0.9931972789115646\n",
      "Precision: 0.989247311827957\n",
      "Recall: 0.9956709956709957\n"
     ]
    }
   ],
   "source": [
    "#for printing the probability\n",
    "y7_pred=logreg.predict_proba([[3.62160,8.66610,-2.8073,-0.44699]])\n",
    "print(y7_pred)\n",
    "\n",
    "y7_pred=logreg.predict(x7_test)\n",
    "y7_pred2=logreg.predict(x7_train)\n",
    "\n",
    "\n",
    "\n",
    "\n",
    "cnf_matrix = metrics.confusion_matrix(y7_test, y7_pred)\n",
    "cnf_matrix\n",
    "cnf_matrix2 = metrics.confusion_matrix(y7_train, y7_pred2)\n",
    "cnf_matrix\n",
    "\n",
    "print(\"Accuracy:\",metrics.accuracy_score(y7_test, y7_pred))\n",
    "print(\"Precision:\",metrics.precision_score(y7_test, y7_pred))\n",
    "print(\"Recall:\",metrics.recall_score(y7_test, y7_pred))\n",
    "print(\"Accuracy:\",metrics.accuracy_score(y7_train, y7_pred2))\n",
    "print(\"Precision:\",metrics.precision_score(y7_train, y7_pred2))\n",
    "print(\"Recall:\",metrics.recall_score(y7_train, y7_pred2))\n",
    "\n"
   ]
  },
  {
   "cell_type": "code",
   "execution_count": null,
   "id": "32e42737",
   "metadata": {
    "papermill": {
     "duration": 0.011573,
     "end_time": "2022-01-19T19:38:35.448932",
     "exception": false,
     "start_time": "2022-01-19T19:38:35.437359",
     "status": "completed"
    },
    "tags": []
   },
   "outputs": [],
   "source": []
  }
 ],
 "metadata": {
  "kernelspec": {
   "display_name": "Python 3",
   "language": "python",
   "name": "python3"
  },
  "language_info": {
   "codemirror_mode": {
    "name": "ipython",
    "version": 3
   },
   "file_extension": ".py",
   "mimetype": "text/x-python",
   "name": "python",
   "nbconvert_exporter": "python",
   "pygments_lexer": "ipython3",
   "version": "3.7.12"
  },
  "papermill": {
   "default_parameters": {},
   "duration": 13.215673,
   "end_time": "2022-01-19T19:38:36.372847",
   "environment_variables": {},
   "exception": null,
   "input_path": "__notebook__.ipynb",
   "output_path": "__notebook__.ipynb",
   "parameters": {},
   "start_time": "2022-01-19T19:38:23.157174",
   "version": "2.3.3"
  }
 },
 "nbformat": 4,
 "nbformat_minor": 5
}
